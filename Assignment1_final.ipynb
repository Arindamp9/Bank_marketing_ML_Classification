{
 "cells": [
  {
   "cell_type": "markdown",
   "metadata": {},
   "source": [
    "# CODE SECTION"
   ]
  },
  {
   "cell_type": "code",
   "execution_count": 251,
   "metadata": {},
   "outputs": [],
   "source": [
    "### Importing necessary libraries\n",
    "import numpy as np\n",
    "import pandas as pd\n",
    "import seaborn as sns\n",
    "import matplotlib.pyplot as plt\n",
    "%matplotlib inline\n",
    "import time\n",
    "from sklearn.model_selection import train_test_split\n",
    "import imblearn\n",
    "from imblearn.over_sampling import RandomOverSampler\n",
    "from collections import Counter\n",
    "from sklearn.metrics import precision_score,recall_score,f1_score\n",
    "from sklearn.metrics import confusion_matrix,classification_report,accuracy_score\n",
    "import warnings\n",
    "warnings.filterwarnings('ignore')\n",
    "from memory_profiler import profile"
   ]
  },
  {
   "cell_type": "code",
   "execution_count": 252,
   "metadata": {},
   "outputs": [],
   "source": [
    "## Starting time\n",
    "start=time.time()\n",
    "### Read the dataset\n",
    "df=pd.read_csv('bank-additional-full.csv')"
   ]
  },
  {
   "cell_type": "code",
   "execution_count": 253,
   "metadata": {},
   "outputs": [
    {
     "data": {
      "text/html": [
       "<div>\n",
       "<style scoped>\n",
       "    .dataframe tbody tr th:only-of-type {\n",
       "        vertical-align: middle;\n",
       "    }\n",
       "\n",
       "    .dataframe tbody tr th {\n",
       "        vertical-align: top;\n",
       "    }\n",
       "\n",
       "    .dataframe thead th {\n",
       "        text-align: right;\n",
       "    }\n",
       "</style>\n",
       "<table border=\"1\" class=\"dataframe\">\n",
       "  <thead>\n",
       "    <tr style=\"text-align: right;\">\n",
       "      <th></th>\n",
       "      <th>age</th>\n",
       "      <th>job</th>\n",
       "      <th>marital</th>\n",
       "      <th>education</th>\n",
       "      <th>default</th>\n",
       "      <th>housing</th>\n",
       "      <th>loan</th>\n",
       "      <th>contact</th>\n",
       "      <th>month</th>\n",
       "      <th>day_of_week</th>\n",
       "      <th>...</th>\n",
       "      <th>campaign</th>\n",
       "      <th>pdays</th>\n",
       "      <th>previous</th>\n",
       "      <th>poutcome</th>\n",
       "      <th>emp.var.rate</th>\n",
       "      <th>cons.price.idx</th>\n",
       "      <th>cons.conf.idx</th>\n",
       "      <th>euribor3m</th>\n",
       "      <th>nr.employed</th>\n",
       "      <th>y</th>\n",
       "    </tr>\n",
       "  </thead>\n",
       "  <tbody>\n",
       "    <tr>\n",
       "      <th>0</th>\n",
       "      <td>56</td>\n",
       "      <td>housemaid</td>\n",
       "      <td>married</td>\n",
       "      <td>basic.4y</td>\n",
       "      <td>no</td>\n",
       "      <td>no</td>\n",
       "      <td>no</td>\n",
       "      <td>telephone</td>\n",
       "      <td>may</td>\n",
       "      <td>mon</td>\n",
       "      <td>...</td>\n",
       "      <td>1</td>\n",
       "      <td>999</td>\n",
       "      <td>0</td>\n",
       "      <td>nonexistent</td>\n",
       "      <td>1.1</td>\n",
       "      <td>93.994</td>\n",
       "      <td>-36.4</td>\n",
       "      <td>4.857</td>\n",
       "      <td>5191.0</td>\n",
       "      <td>no</td>\n",
       "    </tr>\n",
       "    <tr>\n",
       "      <th>1</th>\n",
       "      <td>57</td>\n",
       "      <td>services</td>\n",
       "      <td>married</td>\n",
       "      <td>high.school</td>\n",
       "      <td>unknown</td>\n",
       "      <td>no</td>\n",
       "      <td>no</td>\n",
       "      <td>telephone</td>\n",
       "      <td>may</td>\n",
       "      <td>mon</td>\n",
       "      <td>...</td>\n",
       "      <td>1</td>\n",
       "      <td>999</td>\n",
       "      <td>0</td>\n",
       "      <td>nonexistent</td>\n",
       "      <td>1.1</td>\n",
       "      <td>93.994</td>\n",
       "      <td>-36.4</td>\n",
       "      <td>4.857</td>\n",
       "      <td>5191.0</td>\n",
       "      <td>no</td>\n",
       "    </tr>\n",
       "    <tr>\n",
       "      <th>2</th>\n",
       "      <td>37</td>\n",
       "      <td>services</td>\n",
       "      <td>married</td>\n",
       "      <td>high.school</td>\n",
       "      <td>no</td>\n",
       "      <td>yes</td>\n",
       "      <td>no</td>\n",
       "      <td>telephone</td>\n",
       "      <td>may</td>\n",
       "      <td>mon</td>\n",
       "      <td>...</td>\n",
       "      <td>1</td>\n",
       "      <td>999</td>\n",
       "      <td>0</td>\n",
       "      <td>nonexistent</td>\n",
       "      <td>1.1</td>\n",
       "      <td>93.994</td>\n",
       "      <td>-36.4</td>\n",
       "      <td>4.857</td>\n",
       "      <td>5191.0</td>\n",
       "      <td>no</td>\n",
       "    </tr>\n",
       "    <tr>\n",
       "      <th>3</th>\n",
       "      <td>40</td>\n",
       "      <td>admin.</td>\n",
       "      <td>married</td>\n",
       "      <td>basic.6y</td>\n",
       "      <td>no</td>\n",
       "      <td>no</td>\n",
       "      <td>no</td>\n",
       "      <td>telephone</td>\n",
       "      <td>may</td>\n",
       "      <td>mon</td>\n",
       "      <td>...</td>\n",
       "      <td>1</td>\n",
       "      <td>999</td>\n",
       "      <td>0</td>\n",
       "      <td>nonexistent</td>\n",
       "      <td>1.1</td>\n",
       "      <td>93.994</td>\n",
       "      <td>-36.4</td>\n",
       "      <td>4.857</td>\n",
       "      <td>5191.0</td>\n",
       "      <td>no</td>\n",
       "    </tr>\n",
       "    <tr>\n",
       "      <th>4</th>\n",
       "      <td>56</td>\n",
       "      <td>services</td>\n",
       "      <td>married</td>\n",
       "      <td>high.school</td>\n",
       "      <td>no</td>\n",
       "      <td>no</td>\n",
       "      <td>yes</td>\n",
       "      <td>telephone</td>\n",
       "      <td>may</td>\n",
       "      <td>mon</td>\n",
       "      <td>...</td>\n",
       "      <td>1</td>\n",
       "      <td>999</td>\n",
       "      <td>0</td>\n",
       "      <td>nonexistent</td>\n",
       "      <td>1.1</td>\n",
       "      <td>93.994</td>\n",
       "      <td>-36.4</td>\n",
       "      <td>4.857</td>\n",
       "      <td>5191.0</td>\n",
       "      <td>no</td>\n",
       "    </tr>\n",
       "  </tbody>\n",
       "</table>\n",
       "<p>5 rows × 21 columns</p>\n",
       "</div>"
      ],
      "text/plain": [
       "   age        job  marital    education  default housing loan    contact  \\\n",
       "0   56  housemaid  married     basic.4y       no      no   no  telephone   \n",
       "1   57   services  married  high.school  unknown      no   no  telephone   \n",
       "2   37   services  married  high.school       no     yes   no  telephone   \n",
       "3   40     admin.  married     basic.6y       no      no   no  telephone   \n",
       "4   56   services  married  high.school       no      no  yes  telephone   \n",
       "\n",
       "  month day_of_week  ...  campaign  pdays  previous     poutcome emp.var.rate  \\\n",
       "0   may         mon  ...         1    999         0  nonexistent          1.1   \n",
       "1   may         mon  ...         1    999         0  nonexistent          1.1   \n",
       "2   may         mon  ...         1    999         0  nonexistent          1.1   \n",
       "3   may         mon  ...         1    999         0  nonexistent          1.1   \n",
       "4   may         mon  ...         1    999         0  nonexistent          1.1   \n",
       "\n",
       "   cons.price.idx  cons.conf.idx  euribor3m  nr.employed   y  \n",
       "0          93.994          -36.4      4.857       5191.0  no  \n",
       "1          93.994          -36.4      4.857       5191.0  no  \n",
       "2          93.994          -36.4      4.857       5191.0  no  \n",
       "3          93.994          -36.4      4.857       5191.0  no  \n",
       "4          93.994          -36.4      4.857       5191.0  no  \n",
       "\n",
       "[5 rows x 21 columns]"
      ]
     },
     "execution_count": 253,
     "metadata": {},
     "output_type": "execute_result"
    }
   ],
   "source": [
    "df.head()"
   ]
  },
  {
   "cell_type": "code",
   "execution_count": 254,
   "metadata": {},
   "outputs": [
    {
     "name": "stdout",
     "output_type": "stream",
     "text": [
      "job : 12\n",
      "marital : 4\n",
      "education : 8\n",
      "default : 3\n",
      "housing : 3\n",
      "loan : 3\n",
      "contact : 2\n",
      "month : 10\n",
      "day_of_week : 5\n",
      "poutcome : 3\n",
      "y : 2\n",
      "....................................................................\n",
      "....................................................................\n",
      "\n",
      "\n",
      "job : ['housemaid' 'services' 'admin.' 'blue-collar' 'technician' 'retired'\n",
      " 'management' 'unemployed' 'self-employed' 'unknown' 'entrepreneur'\n",
      " 'student']\n",
      ".................................................\n",
      "\n",
      "\n",
      "marital : ['married' 'single' 'divorced' 'unknown']\n",
      ".................................................\n",
      "\n",
      "\n",
      "education : ['basic.4y' 'high.school' 'basic.6y' 'basic.9y' 'professional.course'\n",
      " 'unknown' 'university.degree' 'illiterate']\n",
      ".................................................\n",
      "\n",
      "\n",
      "default : ['no' 'unknown' 'yes']\n",
      ".................................................\n",
      "\n",
      "\n",
      "housing : ['no' 'yes' 'unknown']\n",
      ".................................................\n",
      "\n",
      "\n",
      "loan : ['no' 'yes' 'unknown']\n",
      ".................................................\n",
      "\n",
      "\n",
      "contact : ['telephone' 'cellular']\n",
      ".................................................\n",
      "\n",
      "\n",
      "month : ['may' 'jun' 'jul' 'aug' 'oct' 'nov' 'dec' 'mar' 'apr' 'sep']\n",
      ".................................................\n",
      "\n",
      "\n",
      "day_of_week : ['mon' 'tue' 'wed' 'thu' 'fri']\n",
      ".................................................\n",
      "\n",
      "\n",
      "poutcome : ['nonexistent' 'failure' 'success']\n",
      ".................................................\n",
      "\n",
      "\n",
      "y : ['no' 'yes']\n",
      ".................................................\n",
      "\n",
      "\n"
     ]
    }
   ],
   "source": [
    "### Number of unique elements in each categorical variable.\n",
    "for i in df.columns:\n",
    "    if df[i].dtypes=='object':\n",
    "        print(i,':' ,df[i].nunique())\n",
    "print('....................................................................')    \n",
    "print('....................................................................')   \n",
    "print('\\n')\n",
    "### Unique elemnets in each categorical variable.\n",
    "for i in df.columns:\n",
    "    if df[i].dtypes=='object':\n",
    "        print(i,':' ,df[i].unique())\n",
    "        print('.................................................')\n",
    "        print('\\n')"
   ]
  },
  {
   "cell_type": "code",
   "execution_count": 255,
   "metadata": {},
   "outputs": [
    {
     "data": {
      "image/png": "[encoded data removed]",
      "text/plain": [
       "<Figure size 864x504 with 2 Axes>"
      ]
     },
     "metadata": {
      "needs_background": "light"
     },
     "output_type": "display_data"
    }
   ],
   "source": [
    "# Pearson Correlation\n",
    "plt.figure(figsize=(12,7))\n",
    "sns.heatmap(df.corr(),annot=True,cmap=\"coolwarm\");"
   ]
  },
  {
   "cell_type": "markdown",
   "metadata": {},
   "source": [
    " **Here 'euribor3m','nr.employed','emp.var.rate' are highly correlated to each other. So we will only keep one of them and drop other two.Here we will keep 'euribor3m' feature.**"
   ]
  },
  {
   "cell_type": "code",
   "execution_count": 256,
   "metadata": {},
   "outputs": [],
   "source": [
    "df.drop(['nr.employed','emp.var.rate'],axis=1,inplace=True)"
   ]
  },
  {
   "cell_type": "code",
   "execution_count": 257,
   "metadata": {},
   "outputs": [
    {
     "data": {
      "text/plain": [
       "no         32588\n",
       "unknown     8597\n",
       "yes            3\n",
       "Name: default, dtype: int64"
      ]
     },
     "execution_count": 257,
     "metadata": {},
     "output_type": "execute_result"
    }
   ],
   "source": [
    "### Here 79% data is'no', and almost 21% is 'unknown' (i.e, null values) and 'yes' is only .01%\n",
    "###  Therefore this feature will not have any significant effect on the model.\n",
    "###  So we will drop it.\n",
    "df['default'].value_counts()"
   ]
  },
  {
   "cell_type": "code",
   "execution_count": 258,
   "metadata": {},
   "outputs": [],
   "source": [
    "#### Dropping 'default' column\n",
    "df.drop('default',axis=1,inplace=True)"
   ]
  },
  {
   "cell_type": "code",
   "execution_count": 259,
   "metadata": {},
   "outputs": [],
   "source": [
    "### Converting target variable into numerical variable.\n",
    "df['y']=df['y'].replace({'yes':1,'no':0})"
   ]
  },
  {
   "cell_type": "code",
   "execution_count": 260,
   "metadata": {},
   "outputs": [],
   "source": [
    "# Label encoding\n",
    "df['contact']=df['contact'].replace({'telephone':0,'cellular':1})\n",
    "df['month']=df['month'].replace({'jan':0,'feb':1,'mar':2,'apr':3,'may':4,'jun':5,'jul':6,'aug':7,'sep':8,'oct':9\n",
    "                               ,'nov':10,'dec':11})\n",
    "df['day_of_week']=df['day_of_week'].replace({'mon':0,'tue':1,'wed':2,'thu':3,'fri':4,'sat':5,'sun':6})"
   ]
  },
  {
   "cell_type": "code",
   "execution_count": 261,
   "metadata": {},
   "outputs": [],
   "source": [
    "edu={'illiterate':0,'basic.4y':1,'basic.6y':2,'basic.9y':3,'unknown':4,'high.school':5,\n",
    "    'university.degree':6,'professional.course':7}\n",
    "df['education']=df['education'].map(edu)"
   ]
  },
  {
   "cell_type": "code",
   "execution_count": 262,
   "metadata": {},
   "outputs": [],
   "source": [
    "### Considering 999 as 0 for pdays column.\n",
    "df.pdays=df.pdays.replace({999:0})"
   ]
  },
  {
   "cell_type": "code",
   "execution_count": 263,
   "metadata": {},
   "outputs": [],
   "source": [
    "# One hot encoding\n",
    "one_hot=['job','marital','housing','loan','poutcome']\n",
    "df1=pd.get_dummies(df[one_hot],drop_first=True)"
   ]
  },
  {
   "cell_type": "code",
   "execution_count": 264,
   "metadata": {},
   "outputs": [],
   "source": [
    "### Okay! Now we are adding this columns to our main data.\n",
    "df=pd.concat([df,df1],axis=1)\n",
    "df.drop(one_hot,axis=1,inplace=True)"
   ]
  },
  {
   "cell_type": "code",
   "execution_count": 265,
   "metadata": {},
   "outputs": [],
   "source": [
    "### X is the dataframe of independent variable\n",
    "### and y contains only the target variable\n",
    "X=df.drop('y',axis=1)\n",
    "y=df['y']"
   ]
  },
  {
   "cell_type": "code",
   "execution_count": 266,
   "metadata": {},
   "outputs": [],
   "source": [
    "### Splitting the data into train and test set\n",
    "from sklearn.model_selection import train_test_split\n",
    "X_train,X_test,y_train,y_test=train_test_split(X,y,test_size=0.2,random_state=42)"
   ]
  },
  {
   "cell_type": "code",
   "execution_count": 267,
   "metadata": {},
   "outputs": [
    {
     "name": "stdout",
     "output_type": "stream",
     "text": [
      "Total Preprocessing Time :  1.4649410247802734 Secs\n"
     ]
    }
   ],
   "source": [
    "### Since the data is imbalanced,so we are doing a little bit oversampling.\n",
    "os=RandomOverSampler(0.5)\n",
    "X_train_os,y_train_os=os.fit_resample(X_train,y_train)\n",
    "\n",
    "print('Total Preprocessing Time : ',time.time()-start,'Secs')"
   ]
  },
  {
   "cell_type": "code",
   "execution_count": 268,
   "metadata": {},
   "outputs": [],
   "source": [
    "### For Decision Tree\n",
    "### calculating time for it\n",
    "start1=time.time()\n",
    "from sklearn.tree import DecisionTreeClassifier\n",
    "DT=DecisionTreeClassifier(min_samples_leaf=10,max_depth=7)"
   ]
  },
  {
   "cell_type": "code",
   "execution_count": 269,
   "metadata": {},
   "outputs": [
    {
     "name": "stdout",
     "output_type": "stream",
     "text": [
      "peak memory: 184.55 MiB, increment: 7.62 MiB\n"
     ]
    }
   ],
   "source": [
    "### Calculating space \n",
    "%memit DT.fit(X_train_os,y_train_os)"
   ]
  },
  {
   "cell_type": "code",
   "execution_count": 270,
   "metadata": {},
   "outputs": [],
   "source": [
    "y_pred=DT.predict(X_test)"
   ]
  },
  {
   "cell_type": "code",
   "execution_count": 271,
   "metadata": {},
   "outputs": [
    {
     "name": "stdout",
     "output_type": "stream",
     "text": [
      "For Decision Tree :: \n",
      "\n",
      "Confusion Matrix  \n",
      "\n",
      "[[6361  942]\n",
      " [ 136  799]]\n",
      "\n",
      "\n",
      "Classification Report  \n",
      "\n",
      "              precision    recall  f1-score   support\n",
      "\n",
      "           0       0.98      0.87      0.92      7303\n",
      "           1       0.46      0.85      0.60       935\n",
      "\n",
      "    accuracy                           0.87      8238\n",
      "   macro avg       0.72      0.86      0.76      8238\n",
      "weighted avg       0.92      0.87      0.89      8238\n",
      "\n",
      "Accuracy :  0.869\n",
      "Precision :  0.459\n",
      "Recall :  0.855\n",
      "f1 :  0.597\n",
      "Time Taken:  2.008805513381958 secs\n"
     ]
    }
   ],
   "source": [
    "print('For Decision Tree :: \\n')\n",
    "print('Confusion Matrix  \\n')\n",
    "print(confusion_matrix(y_test,y_pred))\n",
    "print('\\n')\n",
    "print('Classification Report  \\n')\n",
    "print(classification_report(y_test,y_pred))\n",
    "print('Accuracy : ',round(accuracy_score(y_test,y_pred),3))\n",
    "print('Precision : ',round(precision_score(y_test,y_pred),3))\n",
    "print('Recall : ',round(recall_score(y_test,y_pred),3))\n",
    "print('f1 : ',round(f1_score(y_test,y_pred),3))\n",
    "print('Time Taken: ',time.time()-start1,'secs')"
   ]
  },
  {
   "cell_type": "code",
   "execution_count": 272,
   "metadata": {},
   "outputs": [],
   "source": [
    "### For Random Forest\n",
    "### calculating time for it\n",
    "start2=time.time()\n",
    "from sklearn.ensemble import RandomForestClassifier\n",
    "rf_cl=RandomForestClassifier(max_depth=7)"
   ]
  },
  {
   "cell_type": "code",
   "execution_count": 273,
   "metadata": {},
   "outputs": [
    {
     "name": "stdout",
     "output_type": "stream",
     "text": [
      "peak memory: 187.56 MiB, increment: 7.04 MiB\n"
     ]
    }
   ],
   "source": [
    "### calculating space\n",
    "%memit rf_cl.fit(X_train_os,y_train_os)"
   ]
  },
  {
   "cell_type": "code",
   "execution_count": 274,
   "metadata": {},
   "outputs": [],
   "source": [
    "y_pred1=rf_cl.predict(X_test)"
   ]
  },
  {
   "cell_type": "code",
   "execution_count": 275,
   "metadata": {},
   "outputs": [
    {
     "name": "stdout",
     "output_type": "stream",
     "text": [
      "For Random Forest :: \n",
      "\n",
      "Confusion Matrix  \n",
      "\n",
      "[[6642  661]\n",
      " [ 223  712]]\n",
      "\n",
      "\n",
      "Classification Report  \n",
      "\n",
      "              precision    recall  f1-score   support\n",
      "\n",
      "           0       0.97      0.91      0.94      7303\n",
      "           1       0.52      0.76      0.62       935\n",
      "\n",
      "    accuracy                           0.89      8238\n",
      "   macro avg       0.74      0.84      0.78      8238\n",
      "weighted avg       0.92      0.89      0.90      8238\n",
      "\n",
      "Accuracy :  0.893\n",
      "Precision :  0.519\n",
      "Recall :  0.761\n",
      "f1 :  0.617\n",
      "Time Taken:  2.884699821472168 secs\n"
     ]
    }
   ],
   "source": [
    "print('For Random Forest :: \\n')\n",
    "print('Confusion Matrix  \\n')\n",
    "print(confusion_matrix(y_test,y_pred1))\n",
    "print('\\n')\n",
    "print('Classification Report  \\n')\n",
    "print(classification_report(y_test,y_pred1))\n",
    "print('Accuracy : ',round(accuracy_score(y_test,y_pred1),3))\n",
    "print('Precision : ',round(precision_score(y_test,y_pred1),3))\n",
    "print('Recall : ',round(recall_score(y_test,y_pred1),3))\n",
    "print('f1 : ',round(f1_score(y_test,y_pred1),3))\n",
    "print('Time Taken: ',time.time()-start2,'secs')"
   ]
  },
  {
   "cell_type": "code",
   "execution_count": 276,
   "metadata": {},
   "outputs": [],
   "source": [
    "#### For Naive Bayes\n",
    "#### Calculating time for it\n",
    "start3=time.time()\n",
    "from sklearn.naive_bayes import GaussianNB\n",
    "gnb = GaussianNB()"
   ]
  },
  {
   "cell_type": "code",
   "execution_count": 277,
   "metadata": {},
   "outputs": [
    {
     "name": "stdout",
     "output_type": "stream",
     "text": [
      "peak memory: 198.27 MiB, increment: 15.95 MiB\n"
     ]
    }
   ],
   "source": [
    "### calculating space\n",
    "%memit gnb.fit(X_train_os,y_train_os)"
   ]
  },
  {
   "cell_type": "code",
   "execution_count": 278,
   "metadata": {},
   "outputs": [],
   "source": [
    "y_pred2=gnb.predict(X_test)"
   ]
  },
  {
   "cell_type": "code",
   "execution_count": 279,
   "metadata": {},
   "outputs": [
    {
     "name": "stdout",
     "output_type": "stream",
     "text": [
      "For Naive Bayes :: \n",
      "\n",
      "Confusion Matrix  \n",
      "\n",
      "[[6458  845]\n",
      " [ 444  491]]\n",
      "\n",
      "\n",
      "Classification Report  \n",
      "\n",
      "              precision    recall  f1-score   support\n",
      "\n",
      "           0       0.94      0.88      0.91      7303\n",
      "           1       0.37      0.53      0.43       935\n",
      "\n",
      "    accuracy                           0.84      8238\n",
      "   macro avg       0.65      0.70      0.67      8238\n",
      "weighted avg       0.87      0.84      0.86      8238\n",
      "\n",
      "Accuracy  :  0.844\n",
      "Precision :  0.368\n",
      "Recall    :  0.525\n",
      "f1_score  :  0.432\n",
      "Time Taken:  1.4720520973205566 secs\n"
     ]
    }
   ],
   "source": [
    "print('For Naive Bayes :: \\n')\n",
    "print('Confusion Matrix  \\n')\n",
    "print(confusion_matrix(y_test,y_pred2))\n",
    "print('\\n')\n",
    "print('Classification Report  \\n')\n",
    "print(classification_report(y_test,y_pred2))\n",
    "print('Accuracy  : ',round(accuracy_score(y_test,y_pred2),3))\n",
    "print('Precision : ',round(precision_score(y_test,y_pred2),3))\n",
    "print('Recall    : ',round(recall_score(y_test,y_pred2),3))\n",
    "print('f1_score  : ',round(f1_score(y_test,y_pred2),3))\n",
    "print('Time Taken: ',time.time()-start3,'secs')"
   ]
  },
  {
   "cell_type": "code",
   "execution_count": null,
   "metadata": {},
   "outputs": [],
   "source": []
  },
  {
   "cell_type": "markdown",
   "metadata": {},
   "source": [
    "**Thank You**"
   ]
  },
  {
   "cell_type": "code",
   "execution_count": null,
   "metadata": {},
   "outputs": [],
   "source": []
  }
 ],
 "metadata": {
  "kernelspec": {
   "display_name": "Python 3",
   "language": "python",
   "name": "python3"
  },
  "language_info": {
   "codemirror_mode": {
    "name": "ipython",
    "version": 3
   },
   "file_extension": ".py",
   "mimetype": "text/x-python",
   "name": "python",
   "nbconvert_exporter": "python",
   "pygments_lexer": "ipython3",
   "version": "3.7.6"
  }
 },
 "nbformat": 4,
 "nbformat_minor": 4
}
